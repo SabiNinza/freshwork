{
 "cells": [
  {
   "cell_type": "markdown",
   "metadata": {},
   "source": [
    "## FRESHWORK - ASSIGNEMENT - PUNITGUPTA1811@GMAIL.COM"
   ]
  },
  {
   "cell_type": "code",
   "execution_count": 1,
   "metadata": {},
   "outputs": [],
   "source": [
    "import json\n",
    "from datetime import datetime\n",
    "import uuid"
   ]
  },
  {
   "cell_type": "code",
   "execution_count": 13,
   "metadata": {},
   "outputs": [],
   "source": [
    "class key_store_db:\n",
    "    def __init__(self,path=\"\"):\n",
    "        if path == \"\":\n",
    "            self.filename=str(uuid.uuid4())\n",
    "            data = {}\n",
    "            f = open(self.filename + \".json\", 'w' )\n",
    "            json.dump(data,f)\n",
    "            f.close()\n",
    "            f = open(self.filename + \".json\" )\n",
    "            self.db = json.load(f)\n",
    "            f.close()\n",
    "        else:\n",
    "            self.filename = path\n",
    "            f = open(path)\n",
    "            self.db = json.load(f)\n",
    "            f.close()\n",
    "            \n",
    "    def display(self):\n",
    "        print(self.db)\n",
    "    \n",
    "    def update_json(self,data):\n",
    "        f = open(self.filename + \".json\", 'w')\n",
    "        json.dump(data,f)\n",
    "        f.close()\n",
    "    \n",
    "    def create_new_key(self,key,value,time_to_live):#time_to_live enter day till you want to live the key\n",
    "        #if key already exist\n",
    "        if key in self.db.keys():\n",
    "            print('key already exist !')\n",
    "        else:\n",
    "            #if time is expired\n",
    "            curr_time = datetime.now()\n",
    "            curr_time = curr_time.replace(day=time_to_live)\n",
    "\n",
    "            #create new key and save it\n",
    "            self.db[key] = {}\n",
    "            self.db[key]['value'] = value\n",
    "            self.db[key]['time_to_live'] =  {'year':curr_time.year,'day':curr_time.day}\n",
    "            #update json\n",
    "            self.update_json(data = self.db)\n",
    "\n",
    "    def update_key_value(self,key,value):\n",
    "        print('this key is not longer be available for read and delete operation !')\n",
    "        curr_time = datetime.now().date()\n",
    "        if curr_time.day > self.db[key]['time_to_live']['day'] and curr_time.year > self.db[key]['time_to_live']['year']:\n",
    "            print('this key is not longer be available for read and delete operation !')\n",
    "        else:\n",
    "            self.db[key]['value'] = value\n",
    "            #update json\n",
    "            self.update_json(self.db)\n",
    "    \n",
    "    def delete_key(self,key):\n",
    "        if key not in self.db.keys():\n",
    "            print('key doesn\"t exist !')\n",
    "        else:\n",
    "            del self.db[key]\n",
    "            #update json\n",
    "            self.update_json(self.db)"
   ]
  },
  {
   "cell_type": "markdown",
   "metadata": {},
   "source": [
    "#### OBJECT CREATE"
   ]
  },
  {
   "cell_type": "code",
   "execution_count": 15,
   "metadata": {},
   "outputs": [],
   "source": [
    "a = key_store_db()"
   ]
  },
  {
   "cell_type": "markdown",
   "metadata": {},
   "source": [
    "#### CREATE NEW KEY"
   ]
  },
  {
   "cell_type": "code",
   "execution_count": 4,
   "metadata": {},
   "outputs": [],
   "source": [
    "a.create_new_key(key=5,value={'4':4},time_to_live=20)\n",
    "a.create_new_key(key=6,value={'4':4},time_to_live=20)"
   ]
  },
  {
   "cell_type": "markdown",
   "metadata": {},
   "source": [
    "#### DISPLAY"
   ]
  },
  {
   "cell_type": "code",
   "execution_count": 5,
   "metadata": {},
   "outputs": [
    {
     "name": "stdout",
     "output_type": "stream",
     "text": [
      "{5: {'value': {'4': 4}, 'time_to_live': {'year': 2021, 'day': 20}}, 6: {'value': {'4': 4}, 'time_to_live': {'year': 2021, 'day': 20}}}\n"
     ]
    }
   ],
   "source": [
    "a.display()"
   ]
  },
  {
   "cell_type": "markdown",
   "metadata": {},
   "source": [
    "#### UPDATE "
   ]
  },
  {
   "cell_type": "code",
   "execution_count": 6,
   "metadata": {},
   "outputs": [],
   "source": [
    "a.update_key_value(key=5,value={})"
   ]
  },
  {
   "cell_type": "code",
   "execution_count": 7,
   "metadata": {},
   "outputs": [
    {
     "name": "stdout",
     "output_type": "stream",
     "text": [
      "{5: {'value': {}, 'time_to_live': {'year': 2021, 'day': 20}}, 6: {'value': {'4': 4}, 'time_to_live': {'year': 2021, 'day': 20}}}\n"
     ]
    }
   ],
   "source": [
    "a.display()"
   ]
  },
  {
   "cell_type": "markdown",
   "metadata": {},
   "source": [
    "### DELETE THE KEY - IF DOESN'T EXIST - ERROR"
   ]
  },
  {
   "cell_type": "code",
   "execution_count": 8,
   "metadata": {},
   "outputs": [
    {
     "name": "stdout",
     "output_type": "stream",
     "text": [
      "key doesn\"t exist !\n"
     ]
    }
   ],
   "source": [
    "a.delete_key(key=7)"
   ]
  },
  {
   "cell_type": "code",
   "execution_count": 9,
   "metadata": {},
   "outputs": [
    {
     "name": "stdout",
     "output_type": "stream",
     "text": [
      "{5: {'value': {}, 'time_to_live': {'year': 2021, 'day': 20}}, 6: {'value': {'4': 4}, 'time_to_live': {'year': 2021, 'day': 20}}}\n"
     ]
    }
   ],
   "source": [
    "a.display()"
   ]
  },
  {
   "cell_type": "markdown",
   "metadata": {},
   "source": [
    "### DELETE THE KEY - IF EXIST"
   ]
  },
  {
   "cell_type": "code",
   "execution_count": 10,
   "metadata": {},
   "outputs": [],
   "source": [
    "a.delete_key(key=5)"
   ]
  },
  {
   "cell_type": "code",
   "execution_count": 11,
   "metadata": {},
   "outputs": [
    {
     "name": "stdout",
     "output_type": "stream",
     "text": [
      "{6: {'value': {'4': 4}, 'time_to_live': {'year': 2021, 'day': 20}}}\n"
     ]
    }
   ],
   "source": [
    "a.display()"
   ]
  },
  {
   "cell_type": "markdown",
   "metadata": {},
   "source": [
    "#### CREATE KEY - IF KEY ALREADY EXIST"
   ]
  },
  {
   "cell_type": "code",
   "execution_count": 12,
   "metadata": {},
   "outputs": [
    {
     "name": "stdout",
     "output_type": "stream",
     "text": [
      "key already exist !\n"
     ]
    }
   ],
   "source": [
    "a.create_new_key(key=5,value={'4':4},time_to_live=20)\n",
    "a.create_new_key(key=6,value={'4':4},time_to_live=20)"
   ]
  },
  {
   "cell_type": "code",
   "execution_count": null,
   "metadata": {},
   "outputs": [],
   "source": []
  }
 ],
 "metadata": {
  "kernelspec": {
   "display_name": "Python 3",
   "language": "python",
   "name": "python3"
  },
  "language_info": {
   "codemirror_mode": {
    "name": "ipython",
    "version": 3
   },
   "file_extension": ".py",
   "mimetype": "text/x-python",
   "name": "python",
   "nbconvert_exporter": "python",
   "pygments_lexer": "ipython3",
   "version": "3.8.5"
  }
 },
 "nbformat": 4,
 "nbformat_minor": 4
}
